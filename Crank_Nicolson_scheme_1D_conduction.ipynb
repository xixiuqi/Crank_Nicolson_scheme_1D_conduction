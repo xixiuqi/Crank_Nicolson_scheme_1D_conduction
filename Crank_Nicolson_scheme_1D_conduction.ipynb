{
  "nbformat": 4,
  "nbformat_minor": 0,
  "metadata": {
    "colab": {
      "provenance": [],
      "authorship_tag": "ABX9TyOZ5L61qDpdA40LrJ+RAaNj",
      "include_colab_link": true
    },
    "kernelspec": {
      "name": "python3",
      "display_name": "Python 3"
    },
    "language_info": {
      "name": "python"
    }
  },
  "cells": [
    {
      "cell_type": "markdown",
      "metadata": {
        "id": "view-in-github",
        "colab_type": "text"
      },
      "source": [
        "<a href=\"https://colab.research.google.com/github/xixiuqi/Crank_Nicolson_scheme_1D_conduction/blob/main/Crank_Nicolson_scheme_1D_conduction.ipynb\" target=\"_parent\"><img src=\"https://colab.research.google.com/assets/colab-badge.svg\" alt=\"Open In Colab\"/></a>"
      ]
    },
    {
      "cell_type": "markdown",
      "source": [
        "# The Crank-Nicolson scheme for 1D conduction with convection heating at boundaries\n",
        "**The Crank-Nicolson scheme is used in FDS solid solver**\n",
        "**Also, if the grid size is studied, the stability of the scheme is important.**\n",
        "\n",
        "Governing equations for the one demensional conduction is that\n",
        "\n",
        "$$\\frac{\\partial T}{\\partial t} = α \\frac{\\partial^2 T}{\\partial x^2},$$\n",
        "\n",
        "The convective heat transfer at the boundaries are Neumann,\n",
        "\n",
        "$$k\\frac{\\partial T}{\\partial x}\\Bigg|_{x = 0} = h_0(T\\big|_{x = 0}-T_{∞})$$\n",
        "\n",
        "$$k\\frac{\\partial T}{\\partial x}\\Bigg|_{x = L} = h_L(T\\big|_{x = 0}-T_{∞})$$\n",
        "\n",
        "where $T$ is temperature, $x$ is the space variable, $α$ is the diffusion coefficient of $T$, and $L$ is the length of our one-dimensional space domain.\n",
        "\n",
        "## Finite difference difference method\n",
        "\n",
        "Discretizition both time and space as follows:\n",
        "\n",
        "$$t_n = n \\Delta t,~ n = 0, \\ldots, N-1,$$\n",
        "\n",
        "$$x_j = j \\Delta x,~ j = 0, \\ldots, J-1,$$\n",
        "\n",
        "where $N$ and $J$ are the number of discrete time and space points in our grid respectively.\n",
        "$\\Delta t$ and $\\Delta x$ are the time step and space step respectively and defined as follows:\n",
        "\n",
        "$$\\Delta t = T / N,$$\n",
        "\n",
        "$$\\Delta x = L / J,$$\n",
        "\n",
        "## The Crank-Nicolson scheme\n",
        "\n",
        "The time derivative on the left-hand side in grid point  $(j,n)$ is\n",
        "$$\\frac{\\partial T}{\\partial t}\\Bigg|_{x = j \\Delta x, t = n \\Delta t} \\approx \\frac{T_j^{n+1} - T_j^n}{\\Delta t}.$$\n",
        "\n",
        "The spatial part of the Crank-Nicolson scheme for the heat equation ($T_t = T_{xx}$) approximates the Laplace operator of the equation and takes the following form\n",
        "\n",
        "$$\\frac{\\partial^2 T}{\\partial x^2}\\Bigg|_{x = j \\Delta x, t = n \\Delta t} \\approx \\frac{1}{2 \\Delta x^2} \\left( T_{j+1}^n - 2 T_j^n + T_{j-1}^n + T_{j+1}^{n+1} - 2 T_j^{n+1} + T_{j-1}^{n+1}\\right)$$\n",
        "\n",
        "Applying this scheme to grid point $(j,n)$ gives the following approximation of the equation:\n",
        "\n",
        "$$\\frac{T_j^{n+1} - T_j^n}{\\Delta t} = \\frac{α}{2 \\Delta x^2} \\left( T_{j+1}^n - 2 T_j^n + T_{j-1}^n + T_{j+1}^{n+1} - 2 T_j^{n+1} + T_{j-1}^{n+1}\\right)$$\n",
        "\n",
        "## Linear matrix equation from discretization\n",
        "\n",
        "Define $\\sigma = \\frac{α \\Delta t}{2 \\Delta x^2}$ and reorder the above approximation of the equation:\n",
        "\n",
        "$$-\\sigma T_{j-1}^{n+1} + (1+2\\sigma) T_j^{n+1} -\\sigma T_{j+1}^{n+1} = \\sigma T_{j-1}^n + (1-2\\sigma) T_j^n + \\sigma T_{j+1}^n + \\Delta t f(T_j^n).$$\n",
        "\n",
        "At the boundaries, equation above should be re-arrange as\n",
        "\n",
        "$$j=0:~-\\sigma T_{-1}^{n+1} + (1+2\\sigma) T_0^{n+1} -\\sigma T_{1}^{n+1} = \\sigma T_{-1}^n + (1-2\\sigma) T_0^n + \\sigma T_{1}^n$$\n",
        "\n",
        "$$j=J-1:~-\\sigma T_{J-2}^{n+1} + (1+2\\sigma) T_{J-1}^{n+1} -\\sigma T_{J}^{n+1} = \\sigma T_{J-2}^n + (1-2\\sigma) T_{J-1}^n + \\sigma T_{J}^n$$\n",
        "\n",
        "where $T_{-1}^n$ and $T_J^n$ lie outside the grid and should be determined by the boundary conditions.\n",
        "\n",
        "Discretize the boundary condition at $j=0$ with backward difference and $j=J-1$ with forward scheme goes\n",
        "\n",
        "$$k \\frac{T_0^n - T_{-1}^n}{\\Delta x} = h_0(T_{0}^n-T_{∞}),$$\n",
        "\n",
        "$$k \\frac{T_J^n - T_{J-1}^n}{\\Delta x} = h_L(T_{J-1}^n-T_{∞})$$\n",
        "\n",
        "as\n",
        "\n",
        "$$T_{-1}^n = T_0^n - \\frac{h_0 \\Delta x}{k}(T_{0}^n-T_{∞})$$\n",
        "$$T_{J}^n = T_{J-1}^n + \\frac{h_L \\Delta x}{k}(T_{J-1}^n-T_{∞})$$\n",
        "\n",
        "Similar equations for the $n+1$ variables\n",
        "\n",
        "At the boundaries, the discretization equation goes as,\n",
        "\n",
        "$$\n",
        "\\begin{bmatrix}\n",
        "1+\\sigma+\\frac{σ h_0 Δx}{k} & -\\sigma & 0 & 0 & 0 & \\cdots & 0 & 0 & 0 & 0\\\\\n",
        "-\\sigma & 1+2\\sigma & -\\sigma & 0 & 0 & \\cdots & 0 & 0 & 0 & 0 \\\\\n",
        "0 & -\\sigma & 1+2\\sigma & -\\sigma & \\cdots & 0 & 0 & 0 & 0 & 0 \\\\\n",
        "0 & 0 & \\ddots & \\ddots & \\ddots & \\ddots & 0 & 0 & 0 & 0 \\\\\n",
        "0 & 0 & 0 & 0 & 0 & 0 & 0 & -\\sigma & 1+2\\sigma & -\\sigma \\\\\n",
        "0 & 0 & 0 & 0 & 0 & 0 & 0 & 0 & -\\sigma & 1+\\sigma - \\frac{σ h_L Δx}{k}\n",
        "\\end{bmatrix}\n",
        "\\begin{bmatrix}\n",
        "T_0^{n+1} \\\\\n",
        "T_1^{n+1} \\\\\n",
        "T_2^{n+1} \\\\\n",
        "\\vdots \\\\\n",
        "T_{J-2}^{n+1} \\\\\n",
        "T_{J-1}^{n+1}\n",
        "\\end{bmatrix} =\n",
        "\\begin{bmatrix}\n",
        "1-\\sigma - \\frac{σ h_0 Δx}{k} & \\sigma & 0 & 0 & 0 & \\cdots & 0 & 0 & 0 & 0\\\\\n",
        "\\sigma & 1-2\\sigma & \\sigma & 0 & 0 & \\cdots & 0 & 0 & 0 & 0 \\\\\n",
        "0 & \\sigma & 1-2\\sigma & \\sigma & \\cdots & 0 & 0 & 0 & 0 & 0 \\\\\n",
        "0 & 0 & \\ddots & \\ddots & \\ddots & \\ddots & 0 & 0 & 0 & 0 \\\\\n",
        "0 & 0 & 0 & 0 & 0 & 0 & 0 & \\sigma & 1-2\\sigma & \\sigma \\\\\n",
        "0 & 0 & 0 & 0 & 0 & 0 & 0 & 0 & \\sigma & 1-\\sigma + \\frac{σ h_L Δx}{k}\n",
        "\\end{bmatrix}\n",
        "\\begin{bmatrix}\n",
        "T_0^{n} \\\\\n",
        "T_1^{n} \\\\\n",
        "T_2^{n} \\\\\n",
        "\\vdots \\\\\n",
        "T_{J-2}^{n} \\\\\n",
        "T_{J-1}^{n}\n",
        "\\end{bmatrix} +\n",
        "\\begin{bmatrix}\n",
        "\\frac{2 \\sigma h_0 Δx T_{∞}}{k} \\\\\n",
        "0 \\\\\n",
        "0 \\\\\n",
        "\\vdots \\\\\n",
        "0 \\\\\n",
        "-\\frac{2 \\sigma h_L Δx T_{∞}}{k}\n",
        "\\end{bmatrix}\n",
        "$$\n",
        "\n",
        "Define the matrix on the left-hand side $A$, the one on the right-hand side $B$,\n",
        "and the vector on the right-hand side $f^n$.\n",
        "Using this notation we can write the above system as\n",
        "\n",
        "$$A \\mathbf{U}^{n+1} = B \\mathbf{U}^n + f^n$$\n",
        "\n",
        "To solve the equation, the linear system goes\n",
        "\n",
        "$$\\mathbf{U}^{n+1} = A^{-1} \\left( B \\mathbf{U}^n + f^n \\right)$$\n",
        "\n",
        "The stability analysis for Crank-Nicolson scheme can be found https://www.math.uci.edu/~chenlong/226/ParabolicFDM.pdf. It is proved that the scheme is uncontitionally stable in $l^2$ norm space.\n"
      ],
      "metadata": {
        "id": "Z2iQZSNNrvCg"
      }
    },
    {
      "cell_type": "markdown",
      "source": [
        "### Import the libraries"
      ],
      "metadata": {
        "id": "tUjxP6ngxuqh"
      }
    },
    {
      "cell_type": "code",
      "execution_count": null,
      "metadata": {
        "id": "DQvZBWfCdSNb"
      },
      "outputs": [],
      "source": [
        "import numpy as np\n",
        "from matplotlib import pyplot as plt\n",
        "\n",
        "np.set_printoptions(precision=3)\n"
      ]
    },
    {
      "cell_type": "markdown",
      "source": [
        "### Define the grid\n",
        "\n"
      ],
      "metadata": {
        "id": "bZnhHRmkx0oI"
      }
    },
    {
      "cell_type": "code",
      "source": [
        "Length = 0.5\n",
        "J = 100\n",
        "dx = float(Length)/float(J-1)\n",
        "x_grid = np.array([j*dx for j in range(J)])\n",
        "\n",
        "Time = 20\n",
        "N = 1000\n",
        "dt = float(Time)/float(N-1)\n",
        "t_grid = np.array([n*dt for n in range(N)])"
      ],
      "metadata": {
        "id": "mR5fqZE5dnMt"
      },
      "execution_count": null,
      "outputs": []
    },
    {
      "cell_type": "markdown",
      "source": [
        "### Thermal parameters\n",
        "\n",
        "Thermal diffusivity of PMMA is chosen as $2 × 10^{-5} m^2/s$ and conducvitity is chosen as $0.2 W/(m K)$.\n",
        "\n",
        "For the boundry conditions, at $x=0$, the convective heat transfer coeffieint as $15 W/(m^2 K)$ is applied and semi-infinite boundary condition is appled at $x=L$ as $\\dot{q}^{\\prime \\prime} = 0$.\n",
        "\n",
        "The ambient temperature is chosen as 593.15 K."
      ],
      "metadata": {
        "id": "AxRnRT1Dx-q2"
      }
    },
    {
      "cell_type": "code",
      "source": [
        "alpha = 2E-5\n",
        "k = 0.2\n",
        "h_0 = 15\n",
        "h_L = 0\n",
        "T_infity = 593.15\n",
        "\n",
        "sigma_T = float(alpha*dt)/float((2.*dx*dx))\n"
      ],
      "metadata": {
        "id": "80Vs5BnFdsLj"
      },
      "execution_count": null,
      "outputs": []
    },
    {
      "cell_type": "markdown",
      "source": [
        "### Initial conditions"
      ],
      "metadata": {
        "id": "XYZjtaXxzJR5"
      }
    },
    {
      "cell_type": "code",
      "source": [
        "T_init = 293.15\n",
        "T =  np.array([T_init for i in range(J)])"
      ],
      "metadata": {
        "id": "We-RuiEhzK1S"
      },
      "execution_count": null,
      "outputs": []
    },
    {
      "cell_type": "markdown",
      "source": [
        "### Create marixes"
      ],
      "metadata": {
        "id": "05b-8SQxzPVJ"
      }
    },
    {
      "cell_type": "code",
      "source": [
        "x_0_con = sigma_T*h_0*dx/k\n",
        "x_L_con = sigma_T*h_L*dx/k\n",
        "\n",
        "A_T = np.diagflat([-sigma_T for i in range(J-1)], -1) +\\\n",
        "      np.diagflat([1.+sigma_T+x_0_con]+[1.+2.*sigma_T for i in range(J-2)]+[1.+sigma_T-x_L_con]) +\\\n",
        "      np.diagflat([-sigma_T for i in range(J-1)], 1)\n",
        "\n",
        "B_T = np.diagflat([sigma_T for i in range(J-1)], -1) +\\\n",
        "      np.diagflat([1.-sigma_T-x_0_con]+[1.-2.*sigma_T for i in range(J-2)]+[1.-sigma_T+x_L_con]) +\\\n",
        "      np.diagflat([sigma_T for i in range(J-1)], 1)\n",
        "\n",
        "f_T = np.array([2*x_0_con*T_infity] + [0]*(J-2) + [-2*x_L_con*T_infity])\n"
      ],
      "metadata": {
        "id": "ZNta4NS_fu4Q"
      },
      "execution_count": null,
      "outputs": []
    },
    {
      "cell_type": "code",
      "source": [
        "T_record = []\n",
        "\n",
        "T_record.append(T)\n",
        "\n",
        "for ti in range(1,N):\n",
        "    T_new = np.linalg.solve(A_T, B_T.dot(T) + f_T)\n",
        "\n",
        "    T = T_new\n",
        "\n",
        "    T_record.append(T)\n"
      ],
      "metadata": {
        "id": "GpnuB4H_gYkH"
      },
      "execution_count": null,
      "outputs": []
    },
    {
      "cell_type": "markdown",
      "source": [
        "### Analysical solution\n",
        "\n",
        "When setting the convective heat flux at $x=0$ into a value, and set the boundary condition at $x=L$ as 0 (semi-infinite), the analytical solution is\n",
        "\n",
        "\\begin{aligned}\n",
        "\\frac{T(x, t)-T_i}{T_{\\infty}-T_i}= & \\operatorname{erfc}\\left(\\frac{x}{2 \\sqrt{\\alpha t}}\\right) \\\\\n",
        "& -\\left[\\exp \\left(\\frac{h x}{k}+\\frac{h^2 \\alpha t}{k^2}\\right)\\right]\\left[\\operatorname{erfc}\\left(\\frac{x}{2 \\sqrt{\\alpha t}}+\\frac{h \\sqrt{\\alpha t}}{k}\\right)\\right]\n",
        "\\end{aligned}\n",
        "\n",
        "The figure attached shows the comparasion between analytical and numerical solutions.\n"
      ],
      "metadata": {
        "id": "pEp8CycoCUv8"
      }
    },
    {
      "cell_type": "code",
      "source": [
        "import math\n",
        "\n",
        "analytical_T = []\n",
        "\n",
        "for time in t_grid:\n",
        "  analytical_T_x_grid = []\n",
        "  for x in x_grid:\n",
        "    Term1 = math.erfc(x/2/math.sqrt(alpha*time))\n",
        "    Term2 = math.exp(h_0*x/k+h_0**2*alpha*time/k**2)\n",
        "    Term3 = math.erfc(x/2/math.sqrt(alpha*time)+h_0*math.sqrt(alpha*time)/k)\n",
        "\n",
        "    analytical_T_x_grid.append(Term1-Term2*Term3)\n",
        "\n",
        "  analytical_T.append(analytical_T_x_grid)\n",
        "\n",
        "simulated_T = []\n",
        "\n",
        "for T in T_record:\n",
        "  T_normolized = (T-T[-1])/(T_infity-T[-1])\n",
        "  simulated_T.append(T_normolized)\n",
        "\n",
        "\n",
        "\n",
        "plt.xlabel('x')\n",
        "plt.ylabel('Temperature')\n",
        "plt.plot(x_grid, analytical_T[-1])\n",
        "plt.plot(x_grid, simulated_T[-1])\n",
        "plt.show()\n"
      ],
      "metadata": {
        "id": "8yCg_0w7JcBb"
      },
      "execution_count": null,
      "outputs": []
    },
    {
      "cell_type": "markdown",
      "source": [
        "The figure shows the error between the analytical and numreical solutions."
      ],
      "metadata": {
        "id": "f16PLxx-wd56"
      }
    },
    {
      "cell_type": "code",
      "source": [
        "from numpy import linalg as LA\n",
        "\n",
        "error_in_time = []\n",
        "\n",
        "for index in range(N):\n",
        "  error_array = analytical_T[index] - simulated_T[index]\n",
        "  error_per_time = LA.norm(error_array, np.inf)\n",
        "  error_in_time.append(error_per_time)\n",
        "\n",
        "plt.xlabel('time step')\n",
        "plt.ylabel('Norm error')\n",
        "plt.plot(t_grid, error_in_time)\n",
        "plt.show()"
      ],
      "metadata": {
        "id": "cTjkRsLFpDha"
      },
      "execution_count": null,
      "outputs": []
    },
    {
      "cell_type": "markdown",
      "source": [
        "### Error analysis"
      ],
      "metadata": {
        "id": "OHF0v5VRUQ7j"
      }
    },
    {
      "cell_type": "code",
      "source": [
        "def simulateT(spatialNumer = 100, timeNumber = 1000):\n",
        "  Length = 0.5\n",
        "  J = spatialNumer\n",
        "  dx = float(Length)/float(J-1)\n",
        "  x_grid = np.array([j*dx for j in range(J)])\n",
        "\n",
        "  Time = 20\n",
        "  N = timeNumber\n",
        "  dt = float(Time)/float(N-1)\n",
        "  t_grid = np.array([n*dt for n in range(N)])\n",
        "\n",
        "  alpha = 2E-5\n",
        "  k = 0.2\n",
        "  h_0 = 15\n",
        "  h_L = 0\n",
        "  T_infity = 593.15\n",
        "\n",
        "  sigma_T = float(alpha*dt)/float((2.*dx*dx))\n",
        "\n",
        "  T_init = 293.15\n",
        "  T =  np.array([T_init for i in range(J)])\n",
        "\n",
        "  x_0_con = sigma_T*h_0*dx/k\n",
        "  x_L_con = sigma_T*h_L*dx/k\n",
        "\n",
        "  A_T = np.diagflat([-sigma_T for i in range(J-1)], -1) +\\\n",
        "        np.diagflat([1.+sigma_T+x_0_con]+[1.+2.*sigma_T for i in range(J-2)]+[1.+sigma_T-x_L_con]) +\\\n",
        "        np.diagflat([-sigma_T for i in range(J-1)], 1)\n",
        "\n",
        "  B_T = np.diagflat([sigma_T for i in range(J-1)], -1) +\\\n",
        "        np.diagflat([1.-sigma_T-x_0_con]+[1.-2.*sigma_T for i in range(J-2)]+[1.-sigma_T+x_L_con]) +\\\n",
        "        np.diagflat([sigma_T for i in range(J-1)], 1)\n",
        "\n",
        "  f_T = np.array([2*x_0_con*T_infity] + [0]*(J-2) + [-2*x_L_con*T_infity])\n",
        "\n",
        "  T_record = []\n",
        "\n",
        "  T_record.append(T)\n",
        "\n",
        "  for ti in range(1,N):\n",
        "      T_new = np.linalg.solve(A_T, B_T.dot(T) + f_T)\n",
        "\n",
        "      T = T_new\n",
        "\n",
        "      T_record.append(T)\n",
        "\n",
        "  analytical_T = []\n",
        "\n",
        "  for time in t_grid:\n",
        "    analytical_T_x_grid = []\n",
        "    for x in x_grid:\n",
        "      Term1 = math.erfc(x/2/math.sqrt(alpha*time))\n",
        "      Term2 = math.exp(h_0*x/k+h_0**2*alpha*time/k**2)\n",
        "      Term3 = math.erfc(x/2/math.sqrt(alpha*time)+h_0*math.sqrt(alpha*time)/k)\n",
        "\n",
        "      analytical_T_x_grid.append(Term1-Term2*Term3)\n",
        "\n",
        "    analytical_T.append(analytical_T_x_grid)\n",
        "\n",
        "  simulated_T = []\n",
        "\n",
        "  for T in T_record:\n",
        "    T_normolized = (T-T[-1])/(T_infity-T[-1])\n",
        "    simulated_T.append(T_normolized)\n",
        "\n",
        "  error_in_time = []\n",
        "\n",
        "  for index in range(N):\n",
        "    error_array = analytical_T[index] - simulated_T[index]\n",
        "    error_per_time = LA.norm(error_array, np.inf)\n",
        "    error_in_time.append(error_per_time)\n",
        "\n",
        "  return T_record\n"
      ],
      "metadata": {
        "id": "2rVnbmTRUTLx"
      },
      "execution_count": null,
      "outputs": []
    },
    {
      "cell_type": "markdown",
      "source": [
        "The The figure shows the error between the analytical and numreical solutions."
      ],
      "metadata": {
        "id": "UXtUBYaQwheS"
      }
    },
    {
      "cell_type": "code",
      "source": [
        "error_with_dx = []\n",
        "\n",
        "for spatialNumer in np.arange(50,500,20):\n",
        "  error_with_dx_per = error_generation(spatialNumer)\n",
        "  error_with_dx.append(error_with_dx_per)\n"
      ],
      "metadata": {
        "id": "Scbjz-fHrB0Z"
      },
      "execution_count": null,
      "outputs": []
    },
    {
      "cell_type": "code",
      "source": [
        "for item in error_with_dx:\n",
        "  plt.plot(t_grid, np.asarray(item))\n",
        "  plt.xlabel('time step')\n",
        "  plt.ylabel('Norm error')"
      ],
      "metadata": {
        "id": "ZkcKHVn0tf4w"
      },
      "execution_count": null,
      "outputs": []
    },
    {
      "cell_type": "code",
      "source": [
        "norm_error_at_20_s = []\n",
        "\n",
        "for item in error_with_dx:\n",
        "  norm_error_at_20_s.append(item[-1])\n",
        "\n",
        "plt.plot(np.arange(50,500,20), norm_error_at_20_s)\n",
        "plt.xlabel('Grid size')\n",
        "plt.ylabel('Norm error')"
      ],
      "metadata": {
        "id": "HCke_qE5zr-7"
      },
      "execution_count": null,
      "outputs": []
    },
    {
      "cell_type": "markdown",
      "source": [
        "The finite-difference form of Fourier number is defined as\n",
        "$$F o=\\frac{\\alpha \\Delta t}{(\\Delta x)^2}$$\n",
        "The finite-difference form of the Biot number is\n",
        "$$B i=\\frac{h \\Delta x}{k}$$\n",
        "\n",
        "The plot of Fourier number and Biot number for different grids is"
      ],
      "metadata": {
        "id": "RwvTcHcux5HL"
      }
    },
    {
      "cell_type": "code",
      "source": [
        "Fo = []\n",
        "Bi = []\n",
        "\n",
        "for spatialNumer in np.arange(50,500,20):\n",
        "  dx = float(Length)/float(spatialNumer-1)\n",
        "  Fo.append(alpha*dt/dx**2)\n",
        "  Bi.append(h_0*dx/k)\n",
        "\n",
        "# Create figure and axis objects\n",
        "fig, ax1 = plt.subplots()\n",
        "\n",
        "# Plot data on the first y-axis\n",
        "ax1.plot(np.arange(50,500,20), Fo, color='tab:blue')\n",
        "ax1.set_xlabel('Grid size')\n",
        "ax1.set_ylabel('Fo', color='tab:blue')\n",
        "\n",
        "# Create a second y-axis sharing the same x-axis\n",
        "ax2 = ax1.twinx()\n",
        "ax2.plot(np.arange(50,500,20), norm_error_at_20_s, color='tab:red')\n",
        "ax2.set_ylabel('Bi', color='tab:red')\n",
        "\n",
        "# Show plot\n",
        "plt.show()"
      ],
      "metadata": {
        "id": "1UicbWLiyd2Y"
      },
      "execution_count": null,
      "outputs": []
    },
    {
      "cell_type": "markdown",
      "source": [
        "Normolize the error file with Bi number as a prelimilary try"
      ],
      "metadata": {
        "id": "BWvFzJt101pJ"
      }
    },
    {
      "cell_type": "code",
      "source": [
        "normolized_error_with_dx = []\n",
        "\n",
        "for index in range(len(error_with_dx)):\n",
        "  normolized_error_with_dx_per = np.asarray(error_with_dx[index])/np.asarray(Bi[index])\n",
        "  normolized_error_with_dx.append(normolized_error_with_dx_per)\n",
        "\n",
        "  plt.plot(normolized_error_with_dx_per, label = str(np.arange(50,500,20)[index]))\n",
        "\n",
        "plt.xlabel('Time step')\n",
        "plt.ylabel('Norm error')\n",
        "plt.legend()"
      ],
      "metadata": {
        "id": "qaXExQKc08oR"
      },
      "execution_count": null,
      "outputs": []
    },
    {
      "cell_type": "markdown",
      "source": [
        "### Analytival solution from F-T"
      ],
      "metadata": {
        "id": "aoeT5Rc-PtDD"
      }
    },
    {
      "cell_type": "markdown",
      "source": [
        "Eigenvale function is that\n",
        "\n",
        "$$Bi-\\xi tan(\\xi) = 0$$\n",
        "\n",
        "The eigenvalue is denoted as $\\xi_i$\n",
        "\n",
        "The solution is\n",
        "\n",
        "$$ \\theta = \\sum_{i=1}^{∞} \\frac{4 sin(\\xi_i)}{2\\xi_i + sin(2\\xi_i)} exp(-Fo \\xi_i^2) cos(\\xi_i x^*)$$\n",
        "\n",
        "$r^{*}$ is the normalized coordinate as$\n",
        "\n",
        "$$r^{*} = \\frac{r}{R}$$\n",
        "\n",
        "$\\theta$ is the normolized temperature\n",
        "\n",
        "$$\\theta = \\frac{T-T_a}{T_i-T_a}$$\n"
      ],
      "metadata": {
        "id": "zvnDIlFzVEkR"
      }
    },
    {
      "cell_type": "code",
      "source": [
        "from scipy.constants import foot, day\n",
        "from scipy.optimize import brentq, fsolve\n",
        "from scipy.optimize import root\n",
        "import scipy.sparse as sps\n",
        "import seaborn as sns\n",
        "import numpy as np\n",
        "\n",
        "class plane_conv_analytical:\n",
        "    def __init__(self, alpha, h, k, R, Ta, Ti):\n",
        "        self.R = R\n",
        "        self.alpha = alpha\n",
        "        self.h = h\n",
        "        self.R = R\n",
        "        self.Bi = h*R/k\n",
        "        self.Ti = Ti\n",
        "        self.Ta = Ta\n",
        "\n",
        "    def root_function(self, xi):\n",
        "        return  self.Bi - xi*np.tan(xi)\n",
        "#         return (1.0- self.Bi)*np.tan(xi) - xi\n",
        "\n",
        "    '''\n",
        "    def find_nth_root(self, i):\n",
        "        xi_i = brentq(self.root_function,\n",
        "                      np.pi*.5+np.pi*(i)+1e-6,\n",
        "                      np.pi*.5+np.pi*(i+1)-1e-6,\n",
        "#                       rtol = 9*np.finfo(float).eps\n",
        "                     )\n",
        "        assert np.abs(self.root_function(xi_i)) < 1e-8, \"Root i = \"+str(i)+\" was not found\"\n",
        "        return xi_i\n",
        "    '''\n",
        "\n",
        "    def fond_root_eigenvalue(self):\n",
        "        xi_i = []\n",
        "\n",
        "        for init in np.arange(0,10000,0.2):\n",
        "\n",
        "          sol2 = root(self.root_function, init)\n",
        "\n",
        "          if sol2.success == True:\n",
        "            xi_i.append(sol2.x)\n",
        "\n",
        "        xi_i = np.asarray(xi_i)\n",
        "        xi_i = np.unique(xi_i.round(decimals=4))\n",
        "        xi_i = xi_i[xi_i > 0]\n",
        "\n",
        "        print(\"The number of eigenvalues is \" + str(len(xi_i)))\n",
        "\n",
        "        return xi_i\n",
        "\n",
        "    def constant(self,xi):\n",
        "        return 4.0*np.sin(xi)/(2.0*xi + np.sin(2*xi))\n",
        "\n",
        "    def theta(self, r_star, Fo):\n",
        "        theta = 0\n",
        "        xi_i = self.fond_root_eigenvalue()\n",
        "        for xi_ in xi_i:\n",
        "            constant_ = self.constant(xi_)\n",
        "            theta += constant_*np.exp(-Fo*xi_**2)*np.cos(r_star*xi_)\n",
        "        return theta\n",
        "\n",
        "    def temperature(self, r, t):\n",
        "        Fo = self.alpha*t/self.R**2\n",
        "        r_star = r/self.R\n",
        "        return self.Ta + (self.Ti - self.Ta)*self.theta(r_star, Fo)\n",
        "\n",
        "    def _est_t_cooling(self,Tf):\n",
        "#         return (self.R**2/(self.alpha*self.constant(self.find_nth_root(0))))*np.log((self.Ti - self.Ta)/(Tf-self.Ta))\n",
        "        _xi = self.find_nth_root(0)\n",
        "        _constant = self.constant(_xi)\n",
        "        return (self.R**2/(self.alpha*_xi**2))*np.log(_constant*(self.Ti - self.Ta)/(Tf - self.Ta))\n",
        "\n",
        "    def _temp_diff(self, t, Tf):\n",
        "        return self.temperature(0,t) - Tf\n",
        "\n",
        "    def t_cooling(self, Tf):\n",
        "        t_est = self._est_t_cooling(Tf)\n",
        "#         t_est = 30*day\n",
        "        if self._temp_diff(t_est, Tf) < .1:\n",
        "            return t_est\n",
        "        else:\n",
        "            t_ = fsolve(self._temp_diff, t_est+10*day, args = (Tf),\n",
        "                        xtol = 1e-16\n",
        "                       )[0]\n",
        "            assert self._temp_diff(t_, Tf) < .0001, \"Temperature diff is too large\"\n",
        "            return t_"
      ],
      "metadata": {
        "id": "qChrOXtDP1ud"
      },
      "execution_count": null,
      "outputs": []
    },
    {
      "cell_type": "code",
      "source": [
        "sol = plane_conv_analytical(2E-5, 15, 0.2, 0.5, 593.15, 293.15)\n",
        "\n",
        "sol.temperature(0.5, np.linspace(0,2,1))"
      ],
      "metadata": {
        "colab": {
          "base_uri": "https://localhost:8080/"
        },
        "id": "dQ4zUlNUP4gn",
        "outputId": "4ddea087-c926-47ae-e0a3-fa07dcddd004"
      },
      "execution_count": null,
      "outputs": [
        {
          "output_type": "stream",
          "name": "stdout",
          "text": [
            "The number of eigenvalues is 3189\n"
          ]
        },
        {
          "output_type": "execute_result",
          "data": {
            "text/plain": [
              "array([293.864])"
            ]
          },
          "metadata": {},
          "execution_count": 12
        }
      ]
    },
    {
      "cell_type": "code",
      "source": [
        "analytical_surface_T = sol.temperature(0.5, np.linspace(0,20,1000))"
      ],
      "metadata": {
        "id": "-7mvh4Z9CsM7",
        "colab": {
          "base_uri": "https://localhost:8080/"
        },
        "outputId": "6c12af7a-c269-4467-bb11-9022045d4d4a"
      },
      "execution_count": null,
      "outputs": [
        {
          "output_type": "stream",
          "name": "stdout",
          "text": [
            "The number of eigenvalues is 3189\n"
          ]
        }
      ]
    },
    {
      "cell_type": "code",
      "source": [
        "T_record = simulateT(400,4000)\n",
        "\n",
        "simulated_surface_T = []\n",
        "\n",
        "for T in T_record:\n",
        "  simulated_surface_T.append(T[0])\n",
        "\n",
        "plt.xlabel('Time (s)')\n",
        "plt.ylabel('Surface temperature (K)')\n",
        "plt.plot(np.linspace(0,20,4000), simulated_surface_T, label = 'simulation')\n",
        "plt.plot(np.linspace(0,20,200), analytical_surface_T, label = 'analytical')\n",
        "\n",
        "plt.legend()\n",
        "plt.grid(True)\n",
        "\n",
        "plt.show()"
      ],
      "metadata": {
        "colab": {
          "base_uri": "https://localhost:8080/",
          "height": 585
        },
        "id": "S9bqHDWnySOE",
        "outputId": "b8660b0c-0c91-4500-8917-5285cf1d2cbf"
      },
      "execution_count": null,
      "outputs": [
        {
          "output_type": "stream",
          "name": "stderr",
          "text": [
            "<ipython-input-10-10018faadae8>:52: RuntimeWarning: invalid value encountered in scalar divide\n",
            "  Term1 = math.erfc(x/2/math.sqrt(alpha*time))\n",
            "<ipython-input-10-10018faadae8>:54: RuntimeWarning: invalid value encountered in scalar divide\n",
            "  Term3 = math.erfc(x/2/math.sqrt(alpha*time)+h_0*math.sqrt(alpha*time)/k)\n",
            "<ipython-input-10-10018faadae8>:52: RuntimeWarning: divide by zero encountered in scalar divide\n",
            "  Term1 = math.erfc(x/2/math.sqrt(alpha*time))\n",
            "<ipython-input-10-10018faadae8>:54: RuntimeWarning: divide by zero encountered in scalar divide\n",
            "  Term3 = math.erfc(x/2/math.sqrt(alpha*time)+h_0*math.sqrt(alpha*time)/k)\n"
          ]
        },
        {
          "output_type": "display_data",
          "data": {
            "text/plain": [
              "<Figure size 640x480 with 1 Axes>"
            ],
            "image/png": "[encoded data removed]"
          },
          "metadata": {}
        }
      ]
    },
    {
      "cell_type": "code",
      "source": [
        "np.geomspace(10,500,10).round()"
      ],
      "metadata": {
        "colab": {
          "base_uri": "https://localhost:8080/"
        },
        "id": "IGvqNlk28rZE",
        "outputId": "3f4ca3ef-0a6f-45bb-876e-691deafdc6a4"
      },
      "execution_count": null,
      "outputs": [
        {
          "output_type": "execute_result",
          "data": {
            "text/plain": [
              "array([ 10.,  15.,  24.,  37.,  57.,  88., 136., 210., 324., 500.])"
            ]
          },
          "metadata": {},
          "execution_count": 15
        }
      ]
    },
    {
      "cell_type": "code",
      "source": [
        "different_grid_size = []\n",
        "\n",
        "grid_matrix = np.geomspace(10,5000,10).round().astype(int)\n",
        "\n",
        "for gridsize in grid_matrix:\n",
        "\n",
        "  T_record = simulateT(gridsize,1000)\n",
        "\n",
        "  simulated_surface_T = []\n",
        "\n",
        "  for T in T_record:\n",
        "    simulated_surface_T.append(T[0])\n",
        "\n",
        "  different_grid_size.append(simulated_surface_T)\n",
        "\n",
        "plt.xlabel('Time (s)')\n",
        "plt.ylabel('Surface temperature (K)')\n",
        "index = 0\n",
        "for simulated_surface_T in different_grid_size:\n",
        "  plt.plot(np.linspace(0,20,1000), simulated_surface_T,  linestyle='--', label = str(grid_matrix[index]))\n",
        "  index  = index+1\n",
        "plt.plot(np.linspace(0,20,200), analytical_surface_T, label = 'analytical')\n",
        "\n",
        "plt.legend()\n",
        "plt.grid(True)\n",
        "\n",
        "plt.show()"
      ],
      "metadata": {
        "colab": {
          "base_uri": "https://localhost:8080/",
          "height": 449
        },
        "id": "7m5G8ewjC1I8",
        "outputId": "272f9737-7af9-48ae-8606-67d8a3c18051"
      },
      "execution_count": null,
      "outputs": [
        {
          "output_type": "display_data",
          "data": {
            "text/plain": [
              "<Figure size 640x480 with 1 Axes>"
            ],
            "image/png": "[encoded data removed]"
          },
          "metadata": {}
        }
      ]
    },
    {
      "cell_type": "code",
      "source": [
        "\n",
        "plt.xlabel('Mesh size (m)')\n",
        "plt.ylabel('Norm distance')\n",
        "index = 0\n",
        "error = []\n",
        "for simulated_surface_T in different_grid_size:\n",
        "  error.append(LA.norm(simulated_surface_T-analytical_surface_T, np.inf))\n",
        "  index  = index+1\n",
        "\n",
        "plt.plot(0.5/grid_matrix, error, marker = '.', markersize = 10)\n",
        "\n",
        "plt.legend()\n",
        "plt.grid(True)\n",
        "plt.xscale(\"log\")\n",
        "plt.yscale(\"log\")\n",
        "\n",
        "plt.show()\n",
        "\n",
        "# Define the file path\n",
        "file_path = \"different_grid_size.txt\"\n",
        "\n",
        "# Write the array to a text file\n",
        "np.savetxt(file_path, different_grid_size)\n",
        "\n",
        "print(\"Array has been written to\", file_path)"
      ],
      "metadata": {
        "colab": {
          "base_uri": "https://localhost:8080/",
          "height": 508
        },
        "id": "ePA-FJb7PWUx",
        "outputId": "7ab93008-ed8d-497e-a269-07af452856d1"
      },
      "execution_count": null,
      "outputs": [
        {
          "output_type": "stream",
          "name": "stderr",
          "text": [
            "WARNING:matplotlib.legend:No artists with labels found to put in legend.  Note that artists whose label start with an underscore are ignored when legend() is called with no argument.\n"
          ]
        },
        {
          "output_type": "display_data",
          "data": {
            "text/plain": [
              "<Figure size 640x480 with 1 Axes>"
            ],
            "image/png": "[encoded data removed]"
          },
          "metadata": {}
        },
        {
          "output_type": "stream",
          "name": "stdout",
          "text": [
            "Array has been written to different_grid_size.txt\n"
          ]
        }
      ]
    },
    {
      "cell_type": "markdown",
      "source": [
        "### some calculation\n",
        "\n",
        "The mathematical formulation of the problem is to find $T(x, t)$ is such that\n",
        "\n",
        "$$\n",
        "\\frac{\\partial^2 T(x, t)}{\\partial x^2}=\\frac{1}{\\alpha} \\frac{\\partial T(x, t)}{\\partial t}\n",
        "$$\n",
        "\n",
        "at $x = 0$,\n",
        "\n",
        "$$\n",
        "-k \\frac{\\partial T}{\\partial x}+h_1 (T-T_{\\infty})=0\n",
        "$$\n",
        "\n",
        "at $l = L$,\n",
        "\n",
        "$$\n",
        "k \\frac{\\partial T}{\\partial x}+h_2 (T-T_{\\infty})=0\n",
        "$$\n",
        "\n",
        "Initial condition as $T(x,0 = T_i)$.\n",
        "\n",
        "$\\theta$ is the normolized temperature\n",
        "\n",
        "$$\\theta = \\frac{T-T_{\\infty}}{T_0-T_{\\infty}}$$\n",
        "\n",
        "Governing equation and boundary conditions are\n",
        "\n",
        "$$\n",
        "\\frac{\\partial^2 \\theta(x, t)}{\\partial x^2}=\\frac{1}{\\alpha} \\frac{\\partial \\theta(x, t)}{\\partial t}\n",
        "$$\n",
        "\n",
        "Assume the solution is of the form\n",
        "$$\n",
        "\\theta(x, t)=X(x) \\Gamma(t)\n",
        "$$\n",
        "\n",
        "And the equation goes,\n",
        "\n",
        "$$\n",
        "\\frac{1}{X} \\frac{d^2 X}{d x^2}=\\frac{1}{\\alpha \\Gamma} \\frac{d \\Gamma}{d t}=-\\beta^2\n",
        "$$\n",
        "\n",
        "The solution for $Γ(t)$ is\n",
        "\n",
        "$$\n",
        "\\Gamma(t)=\\exp \\left(-\\alpha \\beta^2 t\\right)\n",
        "$$\n",
        "\n",
        "where $X(t)$ is the solution for following ODE,\n",
        "\n",
        "$$\n",
        "\\frac{d^2 X}{d x^2}+\\beta^2 X=0\n",
        "$$\n",
        "\n",
        "with\n",
        "\n",
        "$$\n",
        "-k \\frac{d X}{d x}+h_1 X=0\n",
        "$$\n",
        "\n",
        "at $x=0$ and\n",
        "\n",
        "$$\n",
        "k \\frac{d X}{d x}+h_2 X=0\n",
        "$$\n",
        "\n",
        "at $x=L$.\n",
        "\n",
        "It can be shown that for the above problem the eigenfunctions are\n",
        "\n",
        "$$\n",
        "X\\left(\\beta_m, x\\right)=\\beta_m \\cos \\beta_m x+\\frac{h_1}{k_1} \\sin \\beta_m x\n",
        "$$\n",
        "\n",
        "And the eigenvalues are the roots of the transcendental equation\n",
        "\n",
        "$$\n",
        "\\tan \\beta_m L=\\frac{\\beta_m\\left(\\frac{h_1}{k_1}+\\frac{h_2}{k_2}\\right)}{\\beta_m^2-\\frac{h_1}{k_1} \\frac{h_2}{k_2}}\n",
        "$$\n",
        "\n",
        "Therefore, the complete solution is of the form\n",
        "\n",
        "$$\n",
        "θ(x, t)=\\sum_{m=1}^{\\infty} c_m X\\left(\\beta_m, x\\right) \\exp \\left(-\\alpha \\beta_m^2 t\\right)\n",
        "$$\n",
        "\n",
        "\n"
      ],
      "metadata": {
        "id": "O_U2Zj3RYs7T"
      }
    },
    {
      "cell_type": "code",
      "source": [
        "import numpy as np\n",
        "from scipy.optimize import root\n",
        "\n",
        "def your_funcs(x):\n",
        "\n",
        "    f = x*np.tan(x) - 37\n",
        "\n",
        "    return f\n",
        "\n",
        "solutions = []\n",
        "\n",
        "for init in np.arange(0,200,0.1):\n",
        "\n",
        "  sol2 = root(your_funcs, init)\n",
        "\n",
        "  if sol2.success == True:\n",
        "    solutions.append(sol2.x)\n",
        "\n",
        "solutions = np.asarray(solutions)\n",
        "\n",
        "unique = np.unique(solutions.round(decimals=4))\n",
        "\n",
        "unique = unique[unique > 0]\n",
        "\n",
        "print(unique)"
      ],
      "metadata": {
        "colab": {
          "base_uri": "https://localhost:8080/"
        },
        "id": "XZLp-xHkjLtL",
        "outputId": "69dd7c1d-4948-4406-aa27-5cf667586480"
      },
      "execution_count": null,
      "outputs": [
        {
          "output_type": "stream",
          "name": "stdout",
          "text": [
            "[  1.53    4.589   7.65   10.714  13.781  16.851  19.926  23.006  26.089\n",
            "  29.177  32.27   35.365  38.465  41.568  44.674  47.783  50.894  54.008\n",
            "  57.123  60.241  63.36   66.481  69.604  72.727  75.852  78.978  82.105\n",
            "  85.233  88.361  91.49   94.621  97.751 100.882 104.014 107.147 110.279\n",
            " 113.413 116.546 119.68  122.815 125.949 129.084 132.22  135.355 138.491\n",
            " 141.627 144.763 147.9   151.037 154.174 157.311 160.448 163.585 166.723\n",
            " 169.861 172.998 176.136 179.274 182.412 185.551 188.689 191.828 194.966\n",
            " 198.105 201.244]\n"
          ]
        }
      ]
    },
    {
      "cell_type": "code",
      "source": [
        "# Define the range of x values\n",
        "x = np.linspace(0, 100, 40000)\n",
        "\n",
        "# Calculate y values for the functions\n",
        "y1 = x * np.tan(x)\n",
        "y2 = np.full_like(x, 37)\n",
        "\n",
        "# Plot the functions\n",
        "plt.plot(x, y1, label=r'$y = x \\tan(x)$')\n",
        "plt.plot(x, y2, label=r'$y = 37$')\n",
        "plt.scatter(unique,np.full(len(unique), 37), label = 'root of ' + r'$x \\tan(x) = 37$')\n",
        "\n",
        "# Add labels and legend\n",
        "plt.xlim(0,20)\n",
        "plt.ylim(36.5,37.5)\n",
        "plt.xlabel('x')\n",
        "plt.ylabel('y')\n",
        "plt.legend()\n",
        "\n",
        "# Show the plot\n",
        "plt.grid(True)\n",
        "plt.show()"
      ],
      "metadata": {
        "colab": {
          "base_uri": "https://localhost:8080/",
          "height": 449
        },
        "id": "2uyHBBcW0lYa",
        "outputId": "ed7fce2c-8008-48f9-99e0-94116826fcbe"
      },
      "execution_count": null,
      "outputs": [
        {
          "output_type": "display_data",
          "data": {
            "text/plain": [
              "<Figure size 640x480 with 1 Axes>"
            ],
            "image/png": "[encoded data removed]"
          },
          "metadata": {}
        }
      ]
    }
  ]
}